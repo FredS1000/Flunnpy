{
 "cells": [
  {
   "cell_type": "code",
   "execution_count": 1,
   "metadata": {},
   "outputs": [
    {
     "name": "stdout",
     "output_type": "stream",
     "text": [
      "/home/frederik/flunnpy\n",
      "/home/frederik/flunnpy/cavity\n",
      "Cleaning /home/frederik/flunnpy/cavity case\n",
      "Running surfaceFeatures on /home/frederik/flunnpy/cavity\n",
      "Running blockMesh on /home/frederik/flunnpy/cavity\n",
      "Running decomposePar on /home/frederik/flunnpy/cavity\n",
      "Running snappyHexMesh on /home/frederik/flunnpy/cavity\n",
      "Running patchSummary on /home/frederik/flunnpy/cavity\n",
      "/home/frederik/flunnpy\n"
     ]
    }
   ],
   "source": [
    "\n",
    "from PyFoam.Execution.ConvergenceRunner import ConvergenceRunner\n",
    "from PyFoam.Execution.UtilityRunner import UtilityRunner\n",
    "from PyFoam.LogAnalysis.BoundingLogAnalyzer import BoundingLogAnalyzer\n",
    "from PyFoam.RunDictionary.SolutionFile import SolutionFile\n",
    "from PyFoam.RunDictionary.SolutionDirectory import SolutionDirectory\n",
    "\n",
    "import pyvista as vtki\n",
    "import numpy as np\n",
    "import os\n",
    "import glob\n",
    "\n",
    "\n",
    "#model_name\n",
    "\n",
    "solver=\"icoFoam\"\n",
    "case=\"cavity\"\n",
    "#pCmd=\"calcPressureDiff*erence\"\n",
    "#mCmd=\"calcMassFlow\"\n",
    "\n",
    "Home_Folder='/home/frederik/flunnpy'\n",
    "%cd $Home_Folder\n",
    "model_name_STL=glob.glob('*.stl')[0]\n",
    "model_name=os.path.splitext(model_name_STL)[0]\n",
    "\n",
    "STL_Folder=os.path.join(Home_Folder, case,'constant/triSurface')\n",
    "STL_File_To_Replace=os.path.join(Home_Folder, case,'constant/triSurface/model.stl')\n",
    "ModelArchivFolder=os.path.join(Home_Folder,'Models')\n",
    "Case_Folder=os.path.join(Home_Folder, case)\n",
    "Model_Path=os.path.join(Home_Folder,model_name_STL)\n",
    "SolutionPNG_Folder=os.path.join(Home_Folder,'Solutions_PNG')\n",
    "%cd $Case_Folder\n",
    "!./Allclean\n",
    "%cp $Model_Path $STL_File_To_Replace\n",
    "#%mv $Model_Path $ModelArchivFolder\n",
    "!./Allrun\n",
    "%cd $Home_Folder\n",
    "dire=SolutionDirectory(case,archive=\"InletVel\")\n",
    "dire.clearResults()\n",
    "#dire.addBackup(\"PyFoamSolve.logfile\")\n",
    "#dire.addBackup(\"PyFoamSolve.analyzed\")\n",
    "#dire.addBackup(\"Pressure.analyzed\")\n",
    "#dire.addBackup(\"MassFlow.analyzed\")\n",
    "dire.addBackup(\"constant\")\n",
    "dire.addBackup(\"system\")\n",
    "    \n",
    "sol=SolutionFile(dire.initialDir(),\"U\")"
   ]
  },
  {
   "cell_type": "code",
   "execution_count": null,
   "metadata": {},
   "outputs": [],
   "source": []
  },
  {
   "cell_type": "code",
   "execution_count": null,
   "metadata": {},
   "outputs": [],
   "source": []
  },
  {
   "cell_type": "code",
   "execution_count": null,
   "metadata": {},
   "outputs": [],
   "source": []
  },
  {
   "cell_type": "code",
   "execution_count": null,
   "metadata": {
    "scrolled": true
   },
   "outputs": [
    {
     "name": "stdout",
     "output_type": "stream",
     "text": [
      "Wandgeschw: 0.0\n",
      "Last Time =  0.0004\n",
      "/home/frederik/flunnpy/cavity/InletVel/vel=0\n",
      "/*---------------------------------------------------------------------------*\\\n",
      "  =========                 |\n",
      "  \\\\      /  F ield         | OpenFOAM: The Open Source CFD Toolbox\n",
      "   \\\\    /   O peration     | Website:  https://openfoam.org\n",
      "    \\\\  /    A nd           | Version:  7\n",
      "     \\\\/     M anipulation  |\n",
      "\\*---------------------------------------------------------------------------*/\n",
      "Build  : 7-ca808c8420bf\n",
      "Exec   : foamToVTK\n",
      "Date   : Dec 22 2019\n",
      "Time   : 22:28:30\n",
      "Host   : \"frederik-WRT-WX9\"\n",
      "PID    : 12706\n",
      "I/O    : uncollated\n",
      "Case   : /home/frederik/flunnpy/cavity/InletVel/vel=0\n",
      "nProcs : 1\n",
      "sigFpe : Enabling floating point exception trapping (FOAM_SIGFPE).\n",
      "fileModificationChecking : Monitoring run-time modified files using timeStampMaster (fileModificationSkew 10)\n",
      "allowSystemOperations : Allowing user-supplied system call operations\n",
      "\n",
      "// * * * * * * * * * * * * * * * * * * * * * * * * * * * * * * * * * * * * * //\n",
      "Create time\n",
      "\n",
      "Create mesh for time = 0.0004\n",
      "\n",
      "Time: 0.0004\n",
      "    volScalarFields            : p\n",
      "    volVectorFields            : U\n",
      "\n",
      "    Internal  : \"/home/frederik/flunnpy/cavity/InletVel/vel=0/VTK/vel=0_4.vtk\"\n",
      "    Original cells:1161 points:2233   Additional cells:1937  additional points:164\n",
      "\n",
      "    Patch     : \"/home/frederik/flunnpy/cavity/InletVel/vel=0/VTK/fixedWalls/fixedWalls_4.vtk\"\n",
      "    Patch     : \"/home/frederik/flunnpy/cavity/InletVel/vel=0/VTK/frontAndBack/frontAndBack_4.vtk\"\n",
      "    Patch     : \"/home/frederik/flunnpy/cavity/InletVel/vel=0/VTK/right/right_4.vtk\"\n",
      "    Patch     : \"/home/frederik/flunnpy/cavity/InletVel/vel=0/VTK/left/left_4.vtk\"\n",
      "    Patch     : \"/home/frederik/flunnpy/cavity/InletVel/vel=0/VTK/model/model_4.vtk\"\n",
      "    surfScalarFields  : phi\n",
      "End\n",
      "\n"
     ]
    },
    {
     "name": "stderr",
     "output_type": "stream",
     "text": [
      "\u001b[4m PyFoam WARNING on line 509 of file /home/frederik/anaconda3/lib/python3.7/site-packages/PyFoam/Execution/BasicRunner.py : Stopping run and writting \u001b[m\n"
     ]
    },
    {
     "name": "stdout",
     "output_type": "stream",
     "text": [
      "/home/frederik/flunnpy/cavity/InletVel/vel=0/VTK\n"
     ]
    },
    {
     "name": "stderr",
     "output_type": "stream",
     "text": [
      "Exception in thread Thread-5:\n",
      "Traceback (most recent call last):\n",
      "  File \"/home/frederik/anaconda3/lib/python3.7/site-packages/psutil/_common.py\", line 342, in wrapper\n",
      "    ret = self._cache[fun]\n",
      "AttributeError: _cache\n",
      "\n",
      "During handling of the above exception, another exception occurred:\n",
      "\n",
      "Traceback (most recent call last):\n",
      "  File \"/home/frederik/anaconda3/lib/python3.7/site-packages/psutil/_pslinux.py\", line 1513, in wrapper\n",
      "    return fun(self, *args, **kwargs)\n",
      "  File \"/home/frederik/anaconda3/lib/python3.7/site-packages/psutil/_common.py\", line 345, in wrapper\n",
      "    return fun(self)\n",
      "  File \"/home/frederik/anaconda3/lib/python3.7/site-packages/psutil/_pslinux.py\", line 1559, in _parse_stat_file\n",
      "    with open_binary(\"%s/%s/stat\" % (self._procfs_path, self.pid)) as f:\n",
      "  File \"/home/frederik/anaconda3/lib/python3.7/site-packages/psutil/_common.py\", line 587, in open_binary\n",
      "    return open(fname, \"rb\", **kwargs)\n",
      "FileNotFoundError: [Errno 2] No such file or directory: '/proc/12701/stat'\n",
      "\n",
      "During handling of the above exception, another exception occurred:\n",
      "\n",
      "Traceback (most recent call last):\n",
      "  File \"/home/frederik/anaconda3/lib/python3.7/site-packages/psutil/__init__.py\", line 473, in _init\n",
      "    self.create_time()\n",
      "  File \"/home/frederik/anaconda3/lib/python3.7/site-packages/psutil/__init__.py\", line 823, in create_time\n",
      "    self._create_time = self._proc.create_time()\n",
      "  File \"/home/frederik/anaconda3/lib/python3.7/site-packages/psutil/_pslinux.py\", line 1513, in wrapper\n",
      "    return fun(self, *args, **kwargs)\n",
      "  File \"/home/frederik/anaconda3/lib/python3.7/site-packages/psutil/_pslinux.py\", line 1723, in create_time\n",
      "    ctime = float(self._parse_stat_file()['create_time'])\n",
      "  File \"/home/frederik/anaconda3/lib/python3.7/site-packages/psutil/_pslinux.py\", line 1524, in wrapper\n",
      "    raise NoSuchProcess(self.pid, self._name)\n",
      "psutil.NoSuchProcess: psutil.NoSuchProcess process no longer exists (pid=12701)\n",
      "\n",
      "During handling of the above exception, another exception occurred:\n",
      "\n",
      "Traceback (most recent call last):\n",
      "  File \"/home/frederik/anaconda3/lib/python3.7/threading.py\", line 917, in _bootstrap_inner\n",
      "    self.run()\n",
      "  File \"/home/frederik/anaconda3/lib/python3.7/threading.py\", line 1166, in run\n",
      "    self.function(*self.args, **self.kwargs)\n",
      "  File \"/home/frederik/anaconda3/lib/python3.7/site-packages/PyFoam/Execution/FoamThread.py\", line 86, in getLinuxMem\n",
      "    me=psutil.Process(thrd.threadPid)\n",
      "  File \"/home/frederik/anaconda3/lib/python3.7/site-packages/psutil/__init__.py\", line 446, in __init__\n",
      "    self._init(pid)\n",
      "  File \"/home/frederik/anaconda3/lib/python3.7/site-packages/psutil/__init__.py\", line 486, in _init\n",
      "    raise NoSuchProcess(pid, None, msg)\n",
      "psutil.NoSuchProcess: psutil.NoSuchProcess no process found with pid 12701\n",
      "\n"
     ]
    },
    {
     "data": {
      "image/png": "[encoded data removed]",
      "text/plain": [
       "<PIL.Image.Image image mode=RGB size=1024x768 at 0x7F76E4527588>"
      ]
     },
     "metadata": {},
     "output_type": "display_data"
    },
    {
     "name": "stdout",
     "output_type": "stream",
     "text": [
      "/home/frederik/flunnpy\n",
      "Wandgeschw: 1.0\n"
     ]
    },
    {
     "name": "stderr",
     "output_type": "stream",
     "text": [
      "\u001b[4m PyFoam WARNING on line 509 of file /home/frederik/anaconda3/lib/python3.7/site-packages/PyFoam/Execution/BasicRunner.py : Stopping run and writting \u001b[m\n"
     ]
    }
   ],
   "source": [
    "maximum=1.\n",
    "nr=5\n",
    "name=\"InletVelResults\" \n",
    "f=dire.makeFile(name)\n",
    " \n",
    "for i in range(nr+1):\n",
    "    # Set the boundary condition at the inlet\n",
    "    val=(maximum*i)\n",
    "    print(\"Wandgeschw:\",val)\n",
    "    sol.replaceBoundary(\"left\",\"(%f 0 0)\" %(val))\n",
    "\n",
    "    # Run the solver\n",
    "    run=ConvergenceRunner(BoundingLogAnalyzer(),argv=[solver,\"-case\",case],silent=True)\n",
    "    run.start()\n",
    "    \n",
    "    print(\"Last Time = \",dire.getLast())\n",
    "\n",
    "    # Get the pressure difference (Using an external utility)\n",
    "    #pUtil=UtilityRunner(argv=[pCmd,\"-case\",case],silent=True,logname=\"Pressure\")\n",
    "    #pUtil.add(\"deltaP\",\"Pressure at .* Difference .*\\] (.+)\")\n",
    "    #pUtil.start()\n",
    "\n",
    "    #deltaP=pUtil.get(\"deltaP\")[0]\n",
    "\n",
    "    # Get the mass flow\n",
    "    #mUtil=UtilityRunner(argv=[mCmd,\"-case\",case,\"-latestTime\"],silent=True,logname=\"MassFlow\")\n",
    "    #mUtil.add(\"mass\",\"Flux at (.+?) .*\\] (.+)\",idNr=1)\n",
    "    #mUtil.start()\n",
    "\n",
    "    #massFlow=mUtil.get(\"mass\",ID=\"outlet\")[0]\n",
    "\n",
    "    # Archive the results\n",
    "    \n",
    "    dire.lastToArchive(\"vel=%g\" % (val))\n",
    "    \n",
    "    CurrentPath=os.path.join('/home/frederik/flunnpy', case, 'InletVel',\"vel=%g\" % (val))\n",
    "    SolutionName=model_name+'_'+case+'_'+\"vel_%g\" % (val)\n",
    "    \n",
    "    %cd $CurrentPath\n",
    "    !foamToVTK\n",
    "\n",
    "    VTK_File_Path=os.path.join(CurrentPath,'VTK')\n",
    "    %cd $VTK_File_Path\n",
    "    vtk_filename=glob.glob('*.vtk')\n",
    "    vtk_filename[0]\n",
    "    grid = vtki.UnstructuredGrid(vtk_filename[0])\n",
    "    #grid.plot()\n",
    "    plotter = vtki.Plotter(off_screen=False)\n",
    "    plotter.add_mesh(grid)\n",
    "    \n",
    "    plotter.show(screenshot=SolutionName)\n",
    "    Solution_File=SolutionName+'.png'\n",
    "    %cp $Solution_File $SolutionPNG_Folder \n",
    "    \n",
    "    \n",
    "    \n",
    "    \n",
    "    %cd /home/frederik/flunnpy\n",
    "    # Clear results\n",
    "    dire.clearResults()\n",
    "\n",
    "    # Output current stuff\n",
    "    #print(\"Vel: \",val,\"DeltaP: \",deltaP,\"Mass Flow:\",massFlow)\n",
    "    #f.writeLine( (val,deltaP,massFlow) )\n",
    "    \n",
    "sol.purgeFile()\n"
   ]
  },
  {
   "cell_type": "code",
   "execution_count": null,
   "metadata": {
    "scrolled": true
   },
   "outputs": [],
   "source": [
    "%cd $CurrentPath\n",
    "%cd $VTK_File_Path\n",
    "vtk_filename=glob.glob('*.vtk')\n",
    "vtk_filename[0]\n",
    "grid = vtki.UnstructuredGrid(vtk_filename[0])\n",
    "#grid.plot()\n",
    "plotter = vtki.Plotter(off_screen=False)\n",
    "plotter.add_mesh(grid)\n",
    "plotter.show(screenshot=SolutionName)\n",
    "Solution_File=SolutionName+'.png'\n",
    "%cp $Solution_File $SolutionPNG_Folder "
   ]
  },
  {
   "cell_type": "code",
   "execution_count": null,
   "metadata": {
    "scrolled": true
   },
   "outputs": [],
   "source": [
    "vtk_filename=str(glob.glob('*.png')[0])\n",
    "vtk_filename"
   ]
  },
  {
   "cell_type": "code",
   "execution_count": null,
   "metadata": {
    "scrolled": true
   },
   "outputs": [],
   "source": [
    "a=str(SolutionPNG_Folder)\n",
    "a"
   ]
  },
  {
   "cell_type": "code",
   "execution_count": null,
   "metadata": {},
   "outputs": [],
   "source": [
    "%cp $vtk_filename $a"
   ]
  },
  {
   "cell_type": "code",
   "execution_count": null,
   "metadata": {
    "scrolled": true
   },
   "outputs": [],
   "source": [
    "CurrentPath=os.path.join('/home/frederik/flunnpy', case, 'InletVel',\"vel=%g\" % (val))\n",
    "SolutionName=model_name+'_'+case+'_'+\"vel_%g\" % (val)\n",
    "\n",
    "%cd $CurrentPath\n",
    "!foamToVTK\n",
    "\n",
    "VTK_File_Path=os.path.join(CurrentPath,'VTK')\n",
    "%cd $VTK_File_Path\n",
    "vtk_filename=glob.glob('*.vtk')\n",
    "vtk_filename[0]\n",
    "grid = vtki.UnstructuredGrid(vtk_filename[0])\n",
    "#grid.plot()\n",
    "plotter = vtki.Plotter(shape=(1,2),off_screen=False,border=False)\n",
    "plotter.add_mesh(grid,cmap=\"gray\",interpolate_before_map=True)\n",
    "plotter.subplot(0,1)\n",
    "plotter.add_mesh(grid,cmap=\"gray\",interpolate_before_map=False)\n",
    "plotter.link_views()\n",
    "plotter.view_xy()\n",
    "plotter.show(screenshot=SolutionName)\n",
    "Solution_File=SolutionName+'.png'\n",
    "\n"
   ]
  },
  {
   "cell_type": "code",
   "execution_count": null,
   "metadata": {},
   "outputs": [],
   "source": [
    "grid = vtki.UnstructuredGrid(vtk_filename[0])\n",
    "vtki.set_plot_theme(\"document\")\n",
    "dargs = dict(cmap='gray', show_edges=False)\n",
    "#grid.plot()\n",
    "plotter = vtki.Plotter(shape=(1,2),off_screen=False,border=False)\n",
    "plotter.add_mesh(a,interpolate_before_map=True,**dargs)\n",
    "plotter.subplot(0,1)\n",
    "plotter.add_mesh(grid,interpolate_before_map=False,**dargs)\n",
    "plotter.link_views()\n",
    "plotter.view_xy()\n",
    "plotter.show(screenshot=SolutionName)\n",
    "Solution_File=SolutionName+'.png'"
   ]
  },
  {
   "cell_type": "code",
   "execution_count": null,
   "metadata": {},
   "outputs": [],
   "source": [
    "vectors = np.vstack(\n",
    "(\n",
    "grid.cell_arrays['U'][:,0],\n",
    "grid.cell_arrays['U'][:,1]\n",
    "#grid.cell_arrays['U'][:,2]\n",
    ")\n",
    ")\n",
    "a=vtki.PolyData(grid.points,vectors)"
   ]
  },
  {
   "cell_type": "code",
   "execution_count": null,
   "metadata": {},
   "outputs": [],
   "source": []
  },
  {
   "cell_type": "code",
   "execution_count": null,
   "metadata": {},
   "outputs": [],
   "source": []
  }
 ],
 "metadata": {
  "kernelspec": {
   "display_name": "Python 3",
   "language": "python",
   "name": "python3"
  },
  "language_info": {
   "codemirror_mode": {
    "name": "ipython",
    "version": 3
   },
   "file_extension": ".py",
   "mimetype": "text/x-python",
   "name": "python",
   "nbconvert_exporter": "python",
   "pygments_lexer": "ipython3",
   "version": "3.7.3"
  }
 },
 "nbformat": 4,
 "nbformat_minor": 2
}
