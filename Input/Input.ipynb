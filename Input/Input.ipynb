{
 "cells": [
  {
   "cell_type": "code",
   "execution_count": 1,
   "metadata": {},
   "outputs": [],
   "source": [
    "\n",
    "import tensorflow as tf\n",
    "from glob import glob as glb"
   ]
  },
  {
   "cell_type": "code",
   "execution_count": 2,
   "metadata": {},
   "outputs": [],
   "source": [
    "from __future__ import absolute_import, division, print_function, unicode_literals\n",
    "import IPython.display as display\n",
    "from PIL import Image\n",
    "import numpy as np\n",
    "import matplotlib.pyplot as plt\n",
    "import os\n",
    "import h5py\n",
    "from tensorflow.keras import datasets, layers, models"
   ]
  },
  {
   "cell_type": "code",
   "execution_count": 3,
   "metadata": {},
   "outputs": [
    {
     "data": {
      "text/plain": [
       "'2.0.0'"
      ]
     },
     "execution_count": 3,
     "metadata": {},
     "output_type": "execute_result"
    }
   ],
   "source": [
    "tf.__version__"
   ]
  },
  {
   "cell_type": "code",
   "execution_count": 4,
   "metadata": {},
   "outputs": [],
   "source": [
    "AUTOTUNE = tf.data.experimental.AUTOTUNE\n"
   ]
  },
  {
   "cell_type": "code",
   "execution_count": 5,
   "metadata": {},
   "outputs": [
    {
     "data": {
      "text/plain": [
       "array(['Mesh', 'P', 'Y', 'X'], dtype='<U4')"
      ]
     },
     "execution_count": 5,
     "metadata": {},
     "output_type": "execute_result"
    }
   ],
   "source": [
    "import pathlib\n",
    "data_dir = '/home/frederik/flunnpy/Solutions_PNG'\n",
    "data_dir = pathlib.Path(data_dir)\n",
    "image_count = len(list(data_dir.glob('*X.png')))\n",
    "image_count\n",
    "CLASS_NAMES = np.array([item.name for item in data_dir.glob('*') if item.name != \"LICENSE.txt\"])\n",
    "CLASS_NAMES"
   ]
  },
  {
   "cell_type": "code",
   "execution_count": 6,
   "metadata": {},
   "outputs": [],
   "source": [
    "# The 1./255 is to convert from uint8 to float32 in range [0,1].\n",
    "image_generator = tf.keras.preprocessing.image.ImageDataGenerator(rescale=1./255)\n"
   ]
  },
  {
   "cell_type": "code",
   "execution_count": 7,
   "metadata": {},
   "outputs": [],
   "source": [
    "BATCH_SIZE = 4\n",
    "IMG_HEIGHT = 256\n",
    "IMG_WIDTH = 256\n",
    "shape=[IMG_HEIGHT,IMG_WIDTH]\n",
    "STEPS_PER_EPOCH = np.ceil(image_count/BATCH_SIZE)\n",
    "rescale=1./255"
   ]
  },
  {
   "cell_type": "code",
   "execution_count": 8,
   "metadata": {},
   "outputs": [
    {
     "name": "stdout",
     "output_type": "stream",
     "text": [
      "Found 4 images belonging to 4 classes.\n"
     ]
    }
   ],
   "source": [
    "train_data_gen = image_generator.flow_from_directory(directory=str(data_dir),\n",
    "                                                     batch_size=BATCH_SIZE,\n",
    "                                                     shuffle=True,\n",
    "                                                     target_size=(IMG_HEIGHT, IMG_WIDTH),\n",
    "                                                     classes = list(CLASS_NAMES))\n"
   ]
  },
  {
   "cell_type": "code",
   "execution_count": 9,
   "metadata": {},
   "outputs": [],
   "source": [
    "imgX=tf.keras.preprocessing.image.load_img(\n",
    "    data_dir/'X/No7_A_0-00_L0-11_cavity_vel_1_X.png',\n",
    "    color_mode=\"grayscale\",\n",
    "    target_size=shape,\n",
    "    interpolation='nearest'\n",
    ")\n",
    "imgY=tf.keras.preprocessing.image.load_img(\n",
    "    data_dir/'Y/No7_A_0-00_L0-11_cavity_vel_1_Y.png',\n",
    "    color_mode=\"grayscale\",\n",
    "    target_size=shape,\n",
    "    interpolation='nearest'\n",
    ")\n",
    "imgP=tf.keras.preprocessing.image.load_img(\n",
    "    data_dir/'P/No7_A_0-00_L0-11_cavity_vel_1_P.png',\n",
    "    color_mode=\"grayscale\",\n",
    "    target_size=shape,\n",
    "    interpolation='nearest'   \n",
    ")\n",
    "imgMesh=tf.keras.preprocessing.image.load_img(\n",
    "    data_dir/'Mesh/No7_A_0-00_L0-11_cavity_vel_1_Mesh.png',\n",
    "    color_mode=\"grayscale\",\n",
    "    target_size=shape,\n",
    "    interpolation='nearest'   \n",
    ")"
   ]
  },
  {
   "cell_type": "code",
   "execution_count": null,
   "metadata": {},
   "outputs": [],
   "source": []
  },
  {
   "cell_type": "code",
   "execution_count": 10,
   "metadata": {
    "scrolled": false
   },
   "outputs": [
    {
     "data": {
      "text/plain": [
       "<matplotlib.image.AxesImage at 0x7fd6f06469e8>"
      ]
     },
     "execution_count": 10,
     "metadata": {},
     "output_type": "execute_result"
    },
    {
     "data": {
      "image/png": "[encoded data removed]",
      "text/plain": [
       "<Figure size 432x288 with 1 Axes>"
      ]
     },
     "metadata": {
      "needs_background": "light"
     },
     "output_type": "display_data"
    }
   ],
   "source": [
    "img_ArrX=tf.keras.preprocessing.image.img_to_array(\n",
    "    imgX,\n",
    "    data_format=\"channels_last\",\n",
    "    dtype=None\n",
    ")\n",
    "img_ArrY=tf.keras.preprocessing.image.img_to_array(\n",
    "    imgY,\n",
    "    data_format=\"channels_last\",\n",
    "    dtype=None\n",
    ")\n",
    "img_ArrP=tf.keras.preprocessing.image.img_to_array(\n",
    "    imgP,\n",
    "    data_format=\"channels_last\",\n",
    "    dtype=None\n",
    ")\n",
    "img_ArrMesh=tf.keras.preprocessing.image.img_to_array(\n",
    "    imgMesh,\n",
    "    data_format=\"channels_last\",\n",
    "    dtype=None\n",
    ")\n",
    "sflow=np.concatenate((img_ArrX,img_ArrY),axis=2)#\n",
    "sflow=sflow*rescale\n",
    "boundary=img_ArrMesh*rescale\n",
    "\n",
    "#img_Arr1[:,:,]=img_Arr\n",
    "#img_Arr1[800,800,0]\n",
    "plt.imshow(sflow[:,:,0],cmap='gray')\n",
    "#img_Arr1.shape"
   ]
  },
  {
   "cell_type": "code",
   "execution_count": 11,
   "metadata": {},
   "outputs": [
    {
     "data": {
      "text/plain": [
       "<matplotlib.image.AxesImage at 0x7fd6f05e1ac8>"
      ]
     },
     "execution_count": 11,
     "metadata": {},
     "output_type": "execute_result"
    },
    {
     "data": {
      "image/png": "[encoded data removed]",
      "text/plain": [
       "<Figure size 432x288 with 1 Axes>"
      ]
     },
     "metadata": {
      "needs_background": "light"
     },
     "output_type": "display_data"
    }
   ],
   "source": [
    "boundary1 = np.expand_dims(boundary, axis=0)\n",
    "sflow1 = np.expand_dims(sflow, axis=0)\n",
    "plt.imshow(boundary1[0,:,:,0],cmap='gray')"
   ]
  },
  {
   "cell_type": "code",
   "execution_count": 12,
   "metadata": {},
   "outputs": [],
   "source": [
    "def show_batch(image_batch, label_batch):\n",
    "  plt.figure(figsize=(10,10))\n",
    "  for n in range(4):\n",
    "      ax = plt.subplot(1,4,n+1)\n",
    "      plt.imshow(image_batch[n])\n",
    "      plt.title(CLASS_NAMES[label_batch[n]==1][0].title())\n",
    "      plt.axis('off')\n"
   ]
  },
  {
   "cell_type": "code",
   "execution_count": 13,
   "metadata": {},
   "outputs": [],
   "source": [
    "#image_batch, label_batch = next(train_data_gen)\n",
    "#show_batch(image_batch, label_batch)\n",
    "image_batch=boundary1\n",
    "label_batch=sflow1"
   ]
  },
  {
   "cell_type": "code",
   "execution_count": 14,
   "metadata": {},
   "outputs": [
    {
     "data": {
      "text/plain": [
       "array([[0.7411765 , 0.74509805, 0.74509805, ..., 0.7019608 , 0.69411767,\n",
       "        0.6862745 ],\n",
       "       [0.73333335, 0.73333335, 0.73333335, ..., 0.6862745 , 0.6784314 ,\n",
       "        0.6745098 ],\n",
       "       [0.7294118 , 0.7294118 , 0.7294118 , ..., 0.6745098 , 0.6745098 ,\n",
       "        0.6666667 ],\n",
       "       ...,\n",
       "       [0.75294125, 0.75294125, 0.7568628 , ..., 0.6862745 , 0.6784314 ,\n",
       "        0.67058825],\n",
       "       [0.7568628 , 0.7568628 , 0.7568628 , ..., 0.69411767, 0.6862745 ,\n",
       "        0.6745098 ],\n",
       "       [0.7607844 , 0.7607844 , 0.7607844 , ..., 0.7019608 , 0.69803923,\n",
       "        0.6862745 ]], dtype=float32)"
      ]
     },
     "execution_count": 14,
     "metadata": {},
     "output_type": "execute_result"
    }
   ],
   "source": [
    "label_batch[0,:,:,0]"
   ]
  },
  {
   "cell_type": "code",
   "execution_count": 15,
   "metadata": {},
   "outputs": [],
   "source": [
    "# class MyConv2DTransposeLayer(tf.keras.layers.Layer):\n",
    "#   def __init__(self, num_outputs):\n",
    "#     super(MyConv2DTransposeLayer, self).__init__()\n",
    "#     self.num_outputs = num_outputs\n",
    "\n",
    "#   def build(self, input_shape):\n",
    "#     self.kernel = self.add_variable(\"kernel\",\n",
    "#                                     shape=[int(input_shape[-1]),\n",
    "#                                            self.num_outputs])\n",
    "\n",
    "#   def call(self, input):\n",
    "#     return tf.matmul(input, self.kernel)\n",
    "\n",
    "# layer = MyDenseLayer(10)\n"
   ]
  },
  {
   "cell_type": "code",
   "execution_count": null,
   "metadata": {},
   "outputs": [],
   "source": []
  },
  {
   "cell_type": "code",
   "execution_count": 19,
   "metadata": {
    "scrolled": false
   },
   "outputs": [
    {
     "name": "stdout",
     "output_type": "stream",
     "text": [
      "Model: \"model\"\n",
      "__________________________________________________________________________________________________\n",
      "Layer (type)                    Output Shape         Param #     Connected to                     \n",
      "==================================================================================================\n",
      "input_1 (InputLayer)            [(None, 256, 256, 1) 0                                            \n",
      "__________________________________________________________________________________________________\n",
      "conv2d (Conv2D)                 (None, 241, 241, 128 32896       input_1[0][0]                    \n",
      "__________________________________________________________________________________________________\n",
      "leaky_re_lu (LeakyReLU)         (None, 241, 241, 128 0           conv2d[0][0]                     \n",
      "__________________________________________________________________________________________________\n",
      "dropout (Dropout)               (None, 241, 241, 128 0           leaky_re_lu[0][0]                \n",
      "__________________________________________________________________________________________________\n",
      "max_pooling2d (MaxPooling2D)    (None, 120, 120, 128 0           dropout[0][0]                    \n",
      "__________________________________________________________________________________________________\n",
      "conv2d_1 (Conv2D)               (None, 117, 117, 512 1049088     max_pooling2d[0][0]              \n",
      "__________________________________________________________________________________________________\n",
      "leaky_re_lu_1 (LeakyReLU)       (None, 117, 117, 512 0           conv2d_1[0][0]                   \n",
      "__________________________________________________________________________________________________\n",
      "dropout_1 (Dropout)             (None, 117, 117, 512 0           leaky_re_lu_1[0][0]              \n",
      "__________________________________________________________________________________________________\n",
      "leaky_re_lu_2 (LeakyReLU)       (None, 117, 117, 512 0           dropout_1[0][0]                  \n",
      "__________________________________________________________________________________________________\n",
      "dropout_2 (Dropout)             (None, 117, 117, 512 0           leaky_re_lu_2[0][0]              \n",
      "__________________________________________________________________________________________________\n",
      "dense (Dense)                   (None, 117, 117, 102 525312      dropout_2[0][0]                  \n",
      "__________________________________________________________________________________________________\n",
      "conv2d_transpose (Conv2DTranspo (None, 124, 124, 512 33554944    dense[0][0]                      \n",
      "__________________________________________________________________________________________________\n",
      "conv2d_transpose_3 (Conv2DTrans (None, 123, 123, 512 25690624    dense[0][0]                      \n",
      "__________________________________________________________________________________________________\n",
      "leaky_re_lu_3 (LeakyReLU)       (None, 124, 124, 512 0           conv2d_transpose[0][0]           \n",
      "__________________________________________________________________________________________________\n",
      "leaky_re_lu_6 (LeakyReLU)       (None, 123, 123, 512 0           conv2d_transpose_3[0][0]         \n",
      "__________________________________________________________________________________________________\n",
      "conv2d_transpose_1 (Conv2DTrans (None, 124, 124, 256 134217984   leaky_re_lu_3[0][0]              \n",
      "__________________________________________________________________________________________________\n",
      "conv2d_transpose_4 (Conv2DTrans (None, 246, 246, 256 4718848     leaky_re_lu_6[0][0]              \n",
      "__________________________________________________________________________________________________\n",
      "leaky_re_lu_4 (LeakyReLU)       (None, 124, 124, 256 0           conv2d_transpose_1[0][0]         \n",
      "__________________________________________________________________________________________________\n",
      "leaky_re_lu_7 (LeakyReLU)       (None, 246, 246, 256 0           conv2d_transpose_4[0][0]         \n",
      "__________________________________________________________________________________________________\n",
      "conv2d_transpose_2 (Conv2DTrans (None, 124, 124, 128 33554560    leaky_re_lu_4[0][0]              \n",
      "__________________________________________________________________________________________________\n",
      "conv2d_transpose_5 (Conv2DTrans (None, 492, 492, 128 524416      leaky_re_lu_7[0][0]              \n",
      "__________________________________________________________________________________________________\n",
      "leaky_re_lu_5 (LeakyReLU)       (None, 124, 124, 128 0           conv2d_transpose_2[0][0]         \n",
      "__________________________________________________________________________________________________\n",
      "leaky_re_lu_8 (LeakyReLU)       (None, 492, 492, 128 0           conv2d_transpose_5[0][0]         \n",
      "__________________________________________________________________________________________________\n",
      "outputs_X (Conv2DTranspose)     (None, 124, 124, 1)  513         leaky_re_lu_5[0][0]              \n",
      "__________________________________________________________________________________________________\n",
      "outputs_Y (Conv2DTranspose)     (None, 492, 492, 1)  513         leaky_re_lu_8[0][0]              \n",
      "==================================================================================================\n",
      "Total params: 233,869,698\n",
      "Trainable params: 233,869,698\n",
      "Non-trainable params: 0\n",
      "__________________________________________________________________________________________________\n"
     ]
    }
   ],
   "source": [
    "from tensorflow import keras\n",
    "from tensorflow.keras import layers\n",
    "tf.keras.backend.clear_session()\n",
    "inputs = keras.Input(shape=(IMG_HEIGHT, IMG_WIDTH, 1))\n",
    "\n",
    "x=layers.Conv2D(128, (16, 16))(inputs)\n",
    "x=layers.LeakyReLU()(x)\n",
    "x=layers.Dropout(0)(x)\n",
    "x=layers.MaxPooling2D((2, 2))(x)\n",
    "x=layers.Conv2D(512, (4, 4))(x)\n",
    "x=layers.LeakyReLU()(x)\n",
    "x=layers.Dropout(0)(x)\n",
    "#x=layers.MaxPooling2D((2, 2))(x)\n",
    "x=layers.LeakyReLU()(x)\n",
    "x=layers.Dropout(0)(x)\n",
    "x=layers.Dense(1024)(x)\n",
    "\n",
    "x1=layers.Conv2DTranspose(512, (8,8),strides=(2,1))(x)\n",
    "#x1=layers.Dropout(0.1)(x1)\n",
    "#x1=layers.BatchNormalization()(x1)\n",
    "x1=layers.LeakyReLU()(x1)\n",
    "x1=layers.Conv2DTranspose(256, (32, 32),strides=(1,1),padding='same')(x1)\n",
    "#flu.add(layers.BatchNormalization())\n",
    "#x1=layers.BatchNormalization()(x1)\n",
    "x1=layers.LeakyReLU()(x1)\n",
    "x1=layers.Conv2DTranspose(128, (32, 32),strides=(1,1),padding='same')(x1)\n",
    "#x1=layers.BatchNormalization()(x1)\n",
    "x1=layers.LeakyReLU()(x1)\n",
    "outputs_X=layers.Conv2DTranspose(1, (2, 2),padding='same',name='outputs_X')(x1)\n",
    "\n",
    "\n",
    "x2=layers.Conv2DTranspose(512, (7,7),strides=(1,1))(x)\n",
    "#x2=layers.Dropout(0.1)(x2)\n",
    "#x2=layers.BatchNormalization()(x2)\n",
    "x2=layers.LeakyReLU()(x2)\n",
    "x2=layers.Conv2DTranspose(256, (6, 6),strides=(2,2),padding='same')(x2)\n",
    "#flu.add(layers.BatchNormalization())\n",
    "#x2=layers.BatchNormalization()(x2)\n",
    "x2=layers.LeakyReLU()(x2)\n",
    "\n",
    "x2=layers.Conv2DTranspose(128, (4, 4),strides=(2,2),padding='same')(x2)\n",
    "#x2=layers.BatchNormalization()(x2)\n",
    "x2=layers.LeakyReLU()(x2)\n",
    "#flu.add(layers.BatchNormalization())\n",
    "#x2=layers.LeakyReLU()(x2)\n",
    "outputs_Y=layers.Conv2DTranspose(1, (2, 2),padding='same',name='outputs_Y')(x2)\n",
    "\n",
    "\n",
    "\n",
    "flu1=keras.Model(inputs=inputs,outputs=[outputs_X,outputs_Y])\n",
    "flu1.summary()"
   ]
  },
  {
   "cell_type": "code",
   "execution_count": 17,
   "metadata": {},
   "outputs": [],
   "source": [
    "   \n",
    "#keras.utils.plot_model(flu1, 'multi_input_and_output_model.png', show_shapes=True)"
   ]
  },
  {
   "cell_type": "code",
   "execution_count": 18,
   "metadata": {},
   "outputs": [
    {
     "ename": "NameError",
     "evalue": "name 'asdf' is not defined",
     "output_type": "error",
     "traceback": [
      "\u001b[0;31m---------------------------------------------------------------------------\u001b[0m",
      "\u001b[0;31mNameError\u001b[0m                                 Traceback (most recent call last)",
      "\u001b[0;32m<ipython-input-18-7d97e98f8af7>\u001b[0m in \u001b[0;36m<module>\u001b[0;34m\u001b[0m\n\u001b[0;32m----> 1\u001b[0;31m \u001b[0masdf\u001b[0m\u001b[0;34m\u001b[0m\u001b[0;34m\u001b[0m\u001b[0m\n\u001b[0m",
      "\u001b[0;31mNameError\u001b[0m: name 'asdf' is not defined"
     ]
    }
   ],
   "source": [
    "asdf"
   ]
  },
  {
   "cell_type": "code",
   "execution_count": null,
   "metadata": {},
   "outputs": [],
   "source": [
    "#asdf\n",
    "\n",
    "# generator = make_generator_model()\n",
    "\n",
    "# noise = tf.random.normal([1, 100])\n",
    "# generated_image = generator(noise, training=False)\n",
    "\n",
    "# plt.imshow(generated_image[0, :, :, 0], cmap='gray')\n"
   ]
  },
  {
   "cell_type": "code",
   "execution_count": null,
   "metadata": {},
   "outputs": [],
   "source": [
    "def loss_imX(outputs_X, sflow):\n",
    "    loss=tf.nn.l2_loss(outputs_X-sflow[:,:,0])\n",
    "    return loss\n",
    "def loss_imY(outputs_Y, sflow):\n",
    "    loss=tf.nn.l2_loss(outputs_Y-sflow[:,:,1])\n",
    "    return loss\n"
   ]
  },
  {
   "cell_type": "code",
   "execution_count": null,
   "metadata": {},
   "outputs": [],
   "source": [
    "sflow[:,:,0]"
   ]
  },
  {
   "cell_type": "code",
   "execution_count": null,
   "metadata": {},
   "outputs": [],
   "source": [
    "flu1.compile(optimizer=tf.keras.optimizers.Adam(1e-4),\n",
    "              #loss=loss_im,\n",
    "              loss={'outputs_X': loss_imX,\n",
    "                    'outputs_Y': loss_imY},\n",
    "\n",
    "             metrics=['accuracy'])\n"
   ]
  },
  {
   "cell_type": "code",
   "execution_count": null,
   "metadata": {},
   "outputs": [],
   "source": [
    "import datetime\n",
    "!rm -rf logs\n",
    "log_dir = \"logs/train_data/\" + datetime.datetime.now().strftime(\"%Y%m%d-%H%M%S\")\n",
    "file_writer = tf.summary.create_file_writer(log_dir)\n",
    "#with file_writer.as_default():\n",
    " # tf.summary.image(\"Training data\", img, step=0)\n",
    "tensorboard_callback = tf.keras.callbacks.TensorBoard(log_dir=log_dir, histogram_freq=1)\n"
   ]
  },
  {
   "cell_type": "code",
   "execution_count": null,
   "metadata": {},
   "outputs": [],
   "source": [
    "%load_ext tensorboard\n",
    "%reload_ext tensorboard\n",
    "%tensorboard --logdir logs/train_data/"
   ]
  },
  {
   "cell_type": "code",
   "execution_count": null,
   "metadata": {},
   "outputs": [],
   "source": [
    "label_batch.shape"
   ]
  },
  {
   "cell_type": "code",
   "execution_count": null,
   "metadata": {
    "scrolled": false
   },
   "outputs": [],
   "source": [
    "#history = flu1.fit(image_batch, epochs=1,callbacks=[tensorboard_callback])\n",
    "history = flu1.fit(image_batch, {'outputs_X':label_batch[:,:,:,0],'outputs_Y':label_batch[:,:,:,1]}, epochs=10,callbacks=[tensorboard_callback])"
   ]
  },
  {
   "cell_type": "code",
   "execution_count": null,
   "metadata": {
    "scrolled": true
   },
   "outputs": [],
   "source": [
    "#model.evaluate(boundary1, verbose=3)\n",
    "predictions = flu1.predict(boundary1)\n",
    "predictions\n",
    "\n",
    "#plt.imshow(predictions[:,:,:,0],cmap='Greys')\n",
    "#boundary1.shape"
   ]
  },
  {
   "cell_type": "code",
   "execution_count": null,
   "metadata": {},
   "outputs": [],
   "source": [
    "predictions=np.array(predictions)#\n",
    "predictions.shape\n",
    "plt.imshow(predictions[0,0,:,:,0],cmap='Greys')"
   ]
  },
  {
   "cell_type": "code",
   "execution_count": null,
   "metadata": {
    "scrolled": false
   },
   "outputs": [],
   "source": [
    "test=(predictions[1,:,:]+predictions[0,:,:])\n",
    "plt.imshow(test[0,:,:,0])"
   ]
  },
  {
   "cell_type": "code",
   "execution_count": null,
   "metadata": {},
   "outputs": [],
   "source": [
    "asdf"
   ]
  },
  {
   "cell_type": "code",
   "execution_count": null,
   "metadata": {},
   "outputs": [],
   "source": []
  },
  {
   "cell_type": "code",
   "execution_count": null,
   "metadata": {},
   "outputs": [],
   "source": []
  },
  {
   "cell_type": "code",
   "execution_count": null,
   "metadata": {},
   "outputs": [],
   "source": []
  },
  {
   "cell_type": "code",
   "execution_count": null,
   "metadata": {},
   "outputs": [],
   "source": []
  },
  {
   "cell_type": "code",
   "execution_count": null,
   "metadata": {},
   "outputs": [],
   "source": []
  },
  {
   "cell_type": "code",
   "execution_count": null,
   "metadata": {},
   "outputs": [],
   "source": [
    "\n"
   ]
  },
  {
   "cell_type": "code",
   "execution_count": null,
   "metadata": {},
   "outputs": [],
   "source": []
  },
  {
   "cell_type": "code",
   "execution_count": null,
   "metadata": {},
   "outputs": [],
   "source": [
    "\n"
   ]
  },
  {
   "cell_type": "code",
   "execution_count": null,
   "metadata": {},
   "outputs": [],
   "source": []
  },
  {
   "cell_type": "code",
   "execution_count": null,
   "metadata": {},
   "outputs": [],
   "source": []
  },
  {
   "cell_type": "code",
   "execution_count": null,
   "metadata": {},
   "outputs": [],
   "source": [
    "keep_prob"
   ]
  },
  {
   "cell_type": "code",
   "execution_count": null,
   "metadata": {
    "scrolled": false
   },
   "outputs": [],
   "source": [
    "tf.keras.backend.clear_session()\n",
    "sflow_p=inference(boundary1, keep_prob)\n",
    "res.summary()"
   ]
  },
  {
   "cell_type": "code",
   "execution_count": null,
   "metadata": {},
   "outputs": [],
   "source": [
    "tf.keras.backend.clear_session()\n",
    "res = models.Sequential()\n",
    "res.add()"
   ]
  },
  {
   "cell_type": "code",
   "execution_count": null,
   "metadata": {},
   "outputs": [],
   "source": []
  },
  {
   "cell_type": "code",
   "execution_count": null,
   "metadata": {},
   "outputs": [],
   "source": []
  }
 ],
 "metadata": {
  "kernelspec": {
   "display_name": "Python 3",
   "language": "python",
   "name": "python3"
  },
  "language_info": {
   "codemirror_mode": {
    "name": "ipython",
    "version": 3
   },
   "file_extension": ".py",
   "mimetype": "text/x-python",
   "name": "python",
   "nbconvert_exporter": "python",
   "pygments_lexer": "ipython3",
   "version": "3.7.3"
  }
 },
 "nbformat": 4,
 "nbformat_minor": 2
}
